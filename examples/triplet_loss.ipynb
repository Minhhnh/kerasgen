{
 "cells": [
  {
   "cell_type": "markdown",
   "metadata": {},
   "source": [
    "[![Open In Colab](https://colab.research.google.com/assets/colab-badge.svg)](https://colab.research.google.com/github/ma7555/kerasgen/blob/master/examples/triplet_loss.ipynb)"
   ]
  },
  {
   "cell_type": "code",
   "execution_count": 12,
   "metadata": {},
   "outputs": [
    {
     "name": "stdout",
     "output_type": "stream",
     "text": [
      "c:\\Users\\ma7mo\\Documents\\GitHub\\kerasgen\\examples\\kerasgen\n"
     ]
    },
    {
     "name": "stderr",
     "output_type": "stream",
     "text": [
      "fatal: destination path 'kerasgen' already exists and is not an empty directory.\n",
      "  DEPRECATION: A future pip version will change local packages to be built in-place without first copying to a temporary directory. We recommend you use --use-feature=in-tree-build to test your packages with this new behavior before it becomes the default.\n",
      "   pip 21.3 will remove support for this functionality. You can find discussion regarding this at https://github.com/pypa/pip/issues/7555.\n"
     ]
    },
    {
     "name": "stdout",
     "output_type": "stream",
     "text": [
      "Processing c:\\users\\ma7mo\\documents\\github\\kerasgen\\examples\\kerasgen\n",
      "Requirement already satisfied: tensorflow>=2.7 in c:\\programdata\\anaconda3\\envs\\kerasgen\\lib\\site-packages (from kerasgen==0.1.2) (2.7.0)\n",
      "Requirement already satisfied: numpy>=1.19 in c:\\programdata\\anaconda3\\envs\\kerasgen\\lib\\site-packages (from kerasgen==0.1.2) (1.22.1)\n",
      "Requirement already satisfied: grpcio<2.0,>=1.24.3 in c:\\programdata\\anaconda3\\envs\\kerasgen\\lib\\site-packages (from tensorflow>=2.7->kerasgen==0.1.2) (1.43.0)\n",
      "Requirement already satisfied: keras<2.8,>=2.7.0rc0 in c:\\programdata\\anaconda3\\envs\\kerasgen\\lib\\site-packages (from tensorflow>=2.7->kerasgen==0.1.2) (2.7.0)\n",
      "Requirement already satisfied: protobuf>=3.9.2 in c:\\programdata\\anaconda3\\envs\\kerasgen\\lib\\site-packages (from tensorflow>=2.7->kerasgen==0.1.2) (3.19.4)\n",
      "Requirement already satisfied: tensorflow-io-gcs-filesystem>=0.21.0 in c:\\programdata\\anaconda3\\envs\\kerasgen\\lib\\site-packages (from tensorflow>=2.7->kerasgen==0.1.2) (0.23.1)\n",
      "Requirement already satisfied: libclang>=9.0.1 in c:\\programdata\\anaconda3\\envs\\kerasgen\\lib\\site-packages (from tensorflow>=2.7->kerasgen==0.1.2) (13.0.0)\n",
      "Requirement already satisfied: tensorboard~=2.6 in c:\\programdata\\anaconda3\\envs\\kerasgen\\lib\\site-packages (from tensorflow>=2.7->kerasgen==0.1.2) (2.8.0)\n",
      "Requirement already satisfied: keras-preprocessing>=1.1.1 in c:\\programdata\\anaconda3\\envs\\kerasgen\\lib\\site-packages (from tensorflow>=2.7->kerasgen==0.1.2) (1.1.2)\n",
      "Requirement already satisfied: wrapt>=1.11.0 in c:\\programdata\\anaconda3\\envs\\kerasgen\\lib\\site-packages (from tensorflow>=2.7->kerasgen==0.1.2) (1.13.3)\n",
      "Requirement already satisfied: wheel<1.0,>=0.32.0 in c:\\programdata\\anaconda3\\envs\\kerasgen\\lib\\site-packages (from tensorflow>=2.7->kerasgen==0.1.2) (0.35.1)\n",
      "Requirement already satisfied: six>=1.12.0 in c:\\programdata\\anaconda3\\envs\\kerasgen\\lib\\site-packages (from tensorflow>=2.7->kerasgen==0.1.2) (1.16.0)\n",
      "Requirement already satisfied: tensorflow-estimator<2.8,~=2.7.0rc0 in c:\\programdata\\anaconda3\\envs\\kerasgen\\lib\\site-packages (from tensorflow>=2.7->kerasgen==0.1.2) (2.7.0)\n",
      "Requirement already satisfied: gast<0.5.0,>=0.2.1 in c:\\programdata\\anaconda3\\envs\\kerasgen\\lib\\site-packages (from tensorflow>=2.7->kerasgen==0.1.2) (0.4.0)\n",
      "Requirement already satisfied: typing-extensions>=3.6.6 in c:\\programdata\\anaconda3\\envs\\kerasgen\\lib\\site-packages (from tensorflow>=2.7->kerasgen==0.1.2) (4.0.1)\n",
      "Requirement already satisfied: absl-py>=0.4.0 in c:\\programdata\\anaconda3\\envs\\kerasgen\\lib\\site-packages (from tensorflow>=2.7->kerasgen==0.1.2) (1.0.0)\n",
      "Requirement already satisfied: google-pasta>=0.1.1 in c:\\programdata\\anaconda3\\envs\\kerasgen\\lib\\site-packages (from tensorflow>=2.7->kerasgen==0.1.2) (0.2.0)\n",
      "Requirement already satisfied: termcolor>=1.1.0 in c:\\programdata\\anaconda3\\envs\\kerasgen\\lib\\site-packages (from tensorflow>=2.7->kerasgen==0.1.2) (1.1.0)\n",
      "Requirement already satisfied: astunparse>=1.6.0 in c:\\programdata\\anaconda3\\envs\\kerasgen\\lib\\site-packages (from tensorflow>=2.7->kerasgen==0.1.2) (1.6.3)\n",
      "Requirement already satisfied: h5py>=2.9.0 in c:\\programdata\\anaconda3\\envs\\kerasgen\\lib\\site-packages (from tensorflow>=2.7->kerasgen==0.1.2) (3.6.0)\n",
      "Requirement already satisfied: opt-einsum>=2.3.2 in c:\\programdata\\anaconda3\\envs\\kerasgen\\lib\\site-packages (from tensorflow>=2.7->kerasgen==0.1.2) (3.3.0)\n",
      "Requirement already satisfied: flatbuffers<3.0,>=1.12 in c:\\programdata\\anaconda3\\envs\\kerasgen\\lib\\site-packages (from tensorflow>=2.7->kerasgen==0.1.2) (2.0)\n",
      "Requirement already satisfied: tensorboard-data-server<0.7.0,>=0.6.0 in c:\\programdata\\anaconda3\\envs\\kerasgen\\lib\\site-packages (from tensorboard~=2.6->tensorflow>=2.7->kerasgen==0.1.2) (0.6.1)\n",
      "Requirement already satisfied: werkzeug>=0.11.15 in c:\\programdata\\anaconda3\\envs\\kerasgen\\lib\\site-packages (from tensorboard~=2.6->tensorflow>=2.7->kerasgen==0.1.2) (2.0.2)\n",
      "Requirement already satisfied: requests<3,>=2.21.0 in c:\\programdata\\anaconda3\\envs\\kerasgen\\lib\\site-packages (from tensorboard~=2.6->tensorflow>=2.7->kerasgen==0.1.2) (2.27.1)\n",
      "Requirement already satisfied: google-auth<3,>=1.6.3 in c:\\programdata\\anaconda3\\envs\\kerasgen\\lib\\site-packages (from tensorboard~=2.6->tensorflow>=2.7->kerasgen==0.1.2) (2.6.0)\n",
      "Requirement already satisfied: setuptools>=41.0.0 in c:\\programdata\\anaconda3\\envs\\kerasgen\\lib\\site-packages (from tensorboard~=2.6->tensorflow>=2.7->kerasgen==0.1.2) (58.0.4)\n",
      "Requirement already satisfied: google-auth-oauthlib<0.5,>=0.4.1 in c:\\programdata\\anaconda3\\envs\\kerasgen\\lib\\site-packages (from tensorboard~=2.6->tensorflow>=2.7->kerasgen==0.1.2) (0.4.6)\n",
      "Requirement already satisfied: markdown>=2.6.8 in c:\\programdata\\anaconda3\\envs\\kerasgen\\lib\\site-packages (from tensorboard~=2.6->tensorflow>=2.7->kerasgen==0.1.2) (3.3.6)\n",
      "Requirement already satisfied: tensorboard-plugin-wit>=1.6.0 in c:\\programdata\\anaconda3\\envs\\kerasgen\\lib\\site-packages (from tensorboard~=2.6->tensorflow>=2.7->kerasgen==0.1.2) (1.8.1)\n",
      "Requirement already satisfied: pyasn1-modules>=0.2.1 in c:\\programdata\\anaconda3\\envs\\kerasgen\\lib\\site-packages (from google-auth<3,>=1.6.3->tensorboard~=2.6->tensorflow>=2.7->kerasgen==0.1.2) (0.2.8)\n",
      "Requirement already satisfied: cachetools<6.0,>=2.0.0 in c:\\programdata\\anaconda3\\envs\\kerasgen\\lib\\site-packages (from google-auth<3,>=1.6.3->tensorboard~=2.6->tensorflow>=2.7->kerasgen==0.1.2) (5.0.0)\n",
      "Requirement already satisfied: rsa<5,>=3.1.4 in c:\\programdata\\anaconda3\\envs\\kerasgen\\lib\\site-packages (from google-auth<3,>=1.6.3->tensorboard~=2.6->tensorflow>=2.7->kerasgen==0.1.2) (4.8)\n",
      "Requirement already satisfied: requests-oauthlib>=0.7.0 in c:\\programdata\\anaconda3\\envs\\kerasgen\\lib\\site-packages (from google-auth-oauthlib<0.5,>=0.4.1->tensorboard~=2.6->tensorflow>=2.7->kerasgen==0.1.2) (1.3.1)\n",
      "Requirement already satisfied: importlib-metadata>=4.4 in c:\\programdata\\anaconda3\\envs\\kerasgen\\lib\\site-packages (from markdown>=2.6.8->tensorboard~=2.6->tensorflow>=2.7->kerasgen==0.1.2) (4.10.1)\n",
      "Requirement already satisfied: zipp>=0.5 in c:\\programdata\\anaconda3\\envs\\kerasgen\\lib\\site-packages (from importlib-metadata>=4.4->markdown>=2.6.8->tensorboard~=2.6->tensorflow>=2.7->kerasgen==0.1.2) (3.7.0)\n",
      "Requirement already satisfied: pyasn1<0.5.0,>=0.4.6 in c:\\programdata\\anaconda3\\envs\\kerasgen\\lib\\site-packages (from pyasn1-modules>=0.2.1->google-auth<3,>=1.6.3->tensorboard~=2.6->tensorflow>=2.7->kerasgen==0.1.2) (0.4.8)\n",
      "Requirement already satisfied: urllib3<1.27,>=1.21.1 in c:\\programdata\\anaconda3\\envs\\kerasgen\\lib\\site-packages (from requests<3,>=2.21.0->tensorboard~=2.6->tensorflow>=2.7->kerasgen==0.1.2) (1.26.8)\n",
      "Requirement already satisfied: certifi>=2017.4.17 in c:\\programdata\\anaconda3\\envs\\kerasgen\\lib\\site-packages (from requests<3,>=2.21.0->tensorboard~=2.6->tensorflow>=2.7->kerasgen==0.1.2) (2021.10.8)\n",
      "Requirement already satisfied: idna<4,>=2.5 in c:\\programdata\\anaconda3\\envs\\kerasgen\\lib\\site-packages (from requests<3,>=2.21.0->tensorboard~=2.6->tensorflow>=2.7->kerasgen==0.1.2) (3.3)\n",
      "Requirement already satisfied: charset-normalizer~=2.0.0 in c:\\programdata\\anaconda3\\envs\\kerasgen\\lib\\site-packages (from requests<3,>=2.21.0->tensorboard~=2.6->tensorflow>=2.7->kerasgen==0.1.2) (2.0.11)\n",
      "Requirement already satisfied: oauthlib>=3.0.0 in c:\\programdata\\anaconda3\\envs\\kerasgen\\lib\\site-packages (from requests-oauthlib>=0.7.0->google-auth-oauthlib<0.5,>=0.4.1->tensorboard~=2.6->tensorflow>=2.7->kerasgen==0.1.2) (3.2.0)\n",
      "Building wheels for collected packages: kerasgen\n",
      "  Building wheel for kerasgen (setup.py): started\n",
      "  Building wheel for kerasgen (setup.py): finished with status 'done'\n",
      "  Created wheel for kerasgen: filename=kerasgen-0.1.2-py3-none-any.whl size=8754 sha256=e42ab5abad6c585436908e7f1c945478ed6630ec5956177f3f4852396c886951\n",
      "  Stored in directory: C:\\Users\\ma7mo\\AppData\\Local\\Temp\\pip-ephem-wheel-cache-e761ru5_\\wheels\\cb\\c6\\cd\\2ea5f4585a7b6a76b39fed4d4bd1566142fab984d4d2071d92\n",
      "Successfully built kerasgen\n",
      "Installing collected packages: kerasgen\n",
      "Successfully installed kerasgen-0.1.2\n",
      "Requirement already satisfied: tensorflow-addons in c:\\programdata\\anaconda3\\envs\\kerasgen\\lib\\site-packages (0.15.0)\n",
      "Requirement already satisfied: typeguard>=2.7 in c:\\programdata\\anaconda3\\envs\\kerasgen\\lib\\site-packages (from tensorflow-addons) (2.13.3)\n"
     ]
    }
   ],
   "source": [
    "%git clone https://github.com/ma7555/kerasgen\n",
    "%cd kerasgen\n",
    "%pip install .\n",
    "%pip install tensorflow-addons"
   ]
  },
  {
   "cell_type": "code",
   "execution_count": 3,
   "metadata": {},
   "outputs": [],
   "source": [
    "from kerasgen.balanced_image_dataset import balanced_image_dataset_from_directory\n",
    "import tensorflow as tf\n",
    "import tensorflow_addons as tfa"
   ]
  },
  {
   "cell_type": "code",
   "execution_count": 8,
   "metadata": {},
   "outputs": [
    {
     "name": "stdout",
     "output_type": "stream",
     "text": [
      "Found 75 files belonging to 5 classes.\n",
      "Using 60 files for training.\n",
      "Found 75 files belonging to 5 classes.\n",
      "Using 15 files for validation.\n"
     ]
    }
   ],
   "source": [
    "directory = './sample'\n",
    "\n",
    "train_ds = balanced_image_dataset_from_directory(\n",
    "    directory, num_classes_per_batch=2,\n",
    "    num_images_per_class=4, image_size=(256, 256),\n",
    "    validation_split=0.2, subset='training', seed=555,\n",
    "    safe_triplet=True)\n",
    "\n",
    "val_ds = balanced_image_dataset_from_directory(\n",
    "    directory, num_classes_per_batch=2,\n",
    "    num_images_per_class=4, image_size=(256, 256),\n",
    "    validation_split=0.2, subset='validation', seed=555,\n",
    "    safe_triplet=True)"
   ]
  },
  {
   "cell_type": "code",
   "execution_count": 9,
   "metadata": {},
   "outputs": [],
   "source": [
    "model = tf.keras.Sequential([\n",
    "    tf.keras.layers.Conv2D(filters=64, kernel_size=2, padding='same', activation='relu', input_shape=(256, 256, 3)),\n",
    "    tf.keras.layers.MaxPooling2D(pool_size=2),\n",
    "    tf.keras.layers.Dropout(0.3),\n",
    "    tf.keras.layers.Conv2D(filters=32, kernel_size=2, padding='same', activation='relu'),\n",
    "    tf.keras.layers.MaxPooling2D(pool_size=2),\n",
    "    tf.keras.layers.Dropout(0.3),\n",
    "    tf.keras.layers.Flatten(),\n",
    "    tf.keras.layers.Dense(256, activation=None), # No activation on final dense layer\n",
    "    tf.keras.layers.Lambda(lambda x: tf.math.l2_normalize(x, axis=1)) # L2 normalize embeddings\n",
    "\n",
    "])"
   ]
  },
  {
   "cell_type": "code",
   "execution_count": 10,
   "metadata": {},
   "outputs": [],
   "source": [
    "# Compile the model\n",
    "model.compile(\n",
    "    optimizer=tf.keras.optimizers.Adam(0.001),\n",
    "    loss=tfa.losses.TripletSemiHardLoss())"
   ]
  },
  {
   "cell_type": "code",
   "execution_count": 11,
   "metadata": {},
   "outputs": [
    {
     "name": "stdout",
     "output_type": "stream",
     "text": [
      "Epoch 1/5\n",
      "8/8 [==============================] - 8s 758ms/step - loss: 0.8873 - val_loss: 0.9057\n",
      "Epoch 2/5\n",
      "8/8 [==============================] - 5s 675ms/step - loss: 0.6348 - val_loss: 0.9125\n",
      "Epoch 3/5\n",
      "8/8 [==============================] - 5s 595ms/step - loss: 0.4327 - val_loss: 0.7794\n",
      "Epoch 4/5\n",
      "8/8 [==============================] - 5s 606ms/step - loss: 0.5359 - val_loss: 0.8979\n",
      "Epoch 5/5\n",
      "8/8 [==============================] - 5s 600ms/step - loss: 0.3328 - val_loss: 0.8185\n"
     ]
    }
   ],
   "source": [
    "# Train the network\n",
    "history = model.fit(\n",
    "    train_ds,\n",
    "    validation_data=val_ds,\n",
    "    epochs=5)"
   ]
  }
 ],
 "metadata": {
  "interpreter": {
   "hash": "dbae1c5eb50dde56befe92e778c8f1164939b0d89ac97839a1fdf038662b5be8"
  },
  "kernelspec": {
   "display_name": "Python 3.9.7 64-bit ('kerasgen': conda)",
   "language": "python",
   "name": "python3"
  },
  "language_info": {
   "codemirror_mode": {
    "name": "ipython",
    "version": 3
   },
   "file_extension": ".py",
   "mimetype": "text/x-python",
   "name": "python",
   "nbconvert_exporter": "python",
   "pygments_lexer": "ipython3",
   "version": "3.9.7"
  },
  "orig_nbformat": 4
 },
 "nbformat": 4,
 "nbformat_minor": 2
}
